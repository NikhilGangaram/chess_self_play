{
 "cells": [
  {
   "cell_type": "code",
   "execution_count": 3,
   "id": "fd04ae88",
   "metadata": {},
   "outputs": [
    {
     "data": {
      "text/plain": [
       "<bound method BaseBoard.unicode of Board('rnbqkbnr/pppppppp/8/8/8/8/PPPPPPPP/RNBQKBNR w KQkq - 0 1')>"
      ]
     },
     "execution_count": 3,
     "metadata": {},
     "output_type": "execute_result"
    }
   ],
   "source": [
    "import chess \n",
    "\n",
    "board = chess.Board()\n",
    "\n",
    "board.unicode"
   ]
  },
  {
   "cell_type": "code",
   "execution_count": 2,
   "id": "e9279680",
   "metadata": {},
   "outputs": [
    {
     "data": {
      "text/plain": [
       "<LegalMoveGenerator at 0x10800ace0 (Nh3, Nf3, Nc3, Na3, h3, g3, f3, e3, d3, c3, b3, a3, h4, g4, f4, e4, d4, c4, b4, a4)>"
      ]
     },
     "execution_count": 2,
     "metadata": {},
     "output_type": "execute_result"
    }
   ],
   "source": [
    "board.legal_moves"
   ]
  },
  {
   "cell_type": "markdown",
   "id": "20a83ac7",
   "metadata": {},
   "source": [
    "# Sandbox\n",
    "\n",
    "## Thoughts \n",
    "\n",
    "The overall goal is to explore self play through the game of chess. Specifically, can a model (using only the board state and legal moves) learn to play chess well by simply playing against itself? And, can an end-to-end learning paradigm in this multi-agent setting provide insight into the learning dynamics of self-play and how it can be extended to general self-play with a single agent?\n",
    "\n",
    "## Network Architecture \n",
    "\n",
    "The model will be a dynamic neural network. The input will be the board state as well as the legal moves. The output will be a probability distribution over the legal moves. \n",
    "\n",
    "The network will be trained using reinforcement learning. For this, the reward will be tied to the end result of the game (win, loss, draw equivalent to 1, -1, 0). In lieu of this, I forsee the largest problem of this training to be the sparseness of the reward space, as well as the dynamic structure of the model to accomodate the changing input and output spaces."
   ]
  }
 ],
 "metadata": {
  "kernelspec": {
   "display_name": "chess",
   "language": "python",
   "name": "python3"
  },
  "language_info": {
   "codemirror_mode": {
    "name": "ipython",
    "version": 3
   },
   "file_extension": ".py",
   "mimetype": "text/x-python",
   "name": "python",
   "nbconvert_exporter": "python",
   "pygments_lexer": "ipython3",
   "version": "3.10.18"
  }
 },
 "nbformat": 4,
 "nbformat_minor": 5
}
